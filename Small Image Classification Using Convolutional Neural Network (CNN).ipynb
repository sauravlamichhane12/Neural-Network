{
 "cells": [
  {
   "cell_type": "code",
   "execution_count": 48,
   "id": "a3d6ed6b",
   "metadata": {},
   "outputs": [],
   "source": [
    "import tensorflow\n",
    "from tensorflow import keras \n",
    "from tensorflow.keras import Sequential\n",
    "from tensorflow.keras.layers import Flatten, Dense, Dropout, Conv2D,GlobalAveragePooling2D, MaxPool2D\n",
    "import numpy as np\n",
    "from sklearn.metrics import accuracy_score, classification_report\n",
    "import matplotlib.pyplot as plt\n",
    "from keras.utils.np_utils import to_categorical"
   ]
  },
  {
   "cell_type": "code",
   "execution_count": null,
   "id": "59ac752f",
   "metadata": {},
   "outputs": [],
   "source": []
  },
  {
   "cell_type": "code",
   "execution_count": 34,
   "id": "a574fd13",
   "metadata": {},
   "outputs": [],
   "source": [
    "(X_train, y_train), (X_test, y_test)= keras.datasets.cifar10.load_data()"
   ]
  },
  {
   "cell_type": "markdown",
   "id": "5e7943db",
   "metadata": {},
   "source": [
    "# Now let us build a convolutional neural network(CNN)to train our images\n"
   ]
  },
  {
   "cell_type": "code",
   "execution_count": 35,
   "id": "02df2e49",
   "metadata": {},
   "outputs": [
    {
     "data": {
      "image/png": "[encoded data removed]",
      "text/plain": [
       "<Figure size 432x288 with 1 Axes>"
      ]
     },
     "metadata": {
      "needs_background": "light"
     },
     "output_type": "display_data"
    }
   ],
   "source": [
    "plt.imshow(X_train[999])\n",
    "plt.show()"
   ]
  },
  {
   "cell_type": "code",
   "execution_count": 36,
   "id": "06d119d4",
   "metadata": {},
   "outputs": [
    {
     "data": {
      "text/plain": [
       "(50000, 32, 32, 3)"
      ]
     },
     "execution_count": 36,
     "metadata": {},
     "output_type": "execute_result"
    }
   ],
   "source": [
    "X_train.shape"
   ]
  },
  {
   "cell_type": "code",
   "execution_count": 37,
   "id": "be429e22",
   "metadata": {},
   "outputs": [
    {
     "name": "stdout",
     "output_type": "stream",
     "text": [
      "Model: \"sequential_7\"\n",
      "_________________________________________________________________\n",
      " Layer (type)                Output Shape              Param #   \n",
      "=================================================================\n",
      " conv2d_8 (Conv2D)           (None, 30, 30, 4)         112       \n",
      "                                                                 \n",
      " dropout_7 (Dropout)         (None, 30, 30, 4)         0         \n",
      "                                                                 \n",
      " max_pooling2d_3 (MaxPooling  (None, 15, 15, 4)        0         \n",
      " 2D)                                                             \n",
      "                                                                 \n",
      " conv2d_9 (Conv2D)           (None, 13, 13, 8)         296       \n",
      "                                                                 \n",
      " dropout_8 (Dropout)         (None, 13, 13, 8)         0         \n",
      "                                                                 \n",
      " conv2d_10 (Conv2D)          (None, 11, 11, 16)        1168      \n",
      "                                                                 \n",
      " dropout_9 (Dropout)         (None, 11, 11, 16)        0         \n",
      "                                                                 \n",
      " flatten_1 (Flatten)         (None, 1936)              0         \n",
      "                                                                 \n",
      " dense_2 (Dense)             (None, 128)               247936    \n",
      "                                                                 \n",
      " dense_3 (Dense)             (None, 10)                1290      \n",
      "                                                                 \n",
      "=================================================================\n",
      "Total params: 250,802\n",
      "Trainable params: 250,802\n",
      "Non-trainable params: 0\n",
      "_________________________________________________________________\n"
     ]
    }
   ],
   "source": [
    "cnn=Sequential()\n",
    "cnn.add(Conv2D(input_shape=(32,32,3), filters=4, kernel_size=(3,3), activation='relu'))\n",
    "cnn.add(Dropout(0.2))\n",
    "cnn.add(MaxPool2D())\n",
    "\n",
    "cnn.add(Conv2D(input_shape=(32,32,3), filters=8, kernel_size=(3,3), activation='relu'))\n",
    "cnn.add(Dropout(0.2))\n",
    "\n",
    "cnn.add(Conv2D(input_shape=(32,32,3), filters=16, kernel_size=(3,3), activation='relu'))\n",
    "cnn.add(Dropout(0.2))\n",
    "\n",
    "\n",
    "cnn.add(Flatten())\n",
    "cnn.add(Dense(units=128, activation='relu'))\n",
    "cnn.add(Dense(units=10, activation='softmax'))\n",
    "\n",
    "cnn.compile(loss='categorical_crossentropy', metrics=['acc'], optimizer='adam')\n",
    "cnn.summary()\n",
    "\n",
    "\n",
    "\n",
    "\n",
    "\n"
   ]
  },
  {
   "cell_type": "code",
   "execution_count": 38,
   "id": "9c7783a0",
   "metadata": {},
   "outputs": [
    {
     "name": "stdout",
     "output_type": "stream",
     "text": [
      "Model: \"sequential_7\"\n",
      "_________________________________________________________________\n",
      " Layer (type)                Output Shape              Param #   \n",
      "=================================================================\n",
      " conv2d_8 (Conv2D)           (None, 30, 30, 4)         112       \n",
      "                                                                 \n",
      " dropout_7 (Dropout)         (None, 30, 30, 4)         0         \n",
      "                                                                 \n",
      " max_pooling2d_3 (MaxPooling  (None, 15, 15, 4)        0         \n",
      " 2D)                                                             \n",
      "                                                                 \n",
      " conv2d_9 (Conv2D)           (None, 13, 13, 8)         296       \n",
      "                                                                 \n",
      " dropout_8 (Dropout)         (None, 13, 13, 8)         0         \n",
      "                                                                 \n",
      " conv2d_10 (Conv2D)          (None, 11, 11, 16)        1168      \n",
      "                                                                 \n",
      " dropout_9 (Dropout)         (None, 11, 11, 16)        0         \n",
      "                                                                 \n",
      " flatten_1 (Flatten)         (None, 1936)              0         \n",
      "                                                                 \n",
      " dense_2 (Dense)             (None, 128)               247936    \n",
      "                                                                 \n",
      " dense_3 (Dense)             (None, 10)                1290      \n",
      "                                                                 \n",
      "=================================================================\n",
      "Total params: 250,802\n",
      "Trainable params: 250,802\n",
      "Non-trainable params: 0\n",
      "_________________________________________________________________\n"
     ]
    }
   ],
   "source": [
    "cnn.summary()"
   ]
  },
  {
   "cell_type": "code",
   "execution_count": 39,
   "id": "1a664128",
   "metadata": {},
   "outputs": [],
   "source": [
    "X_train=X_train/255\n",
    "X_test=X_test/255"
   ]
  },
  {
   "cell_type": "code",
   "execution_count": 40,
   "id": "98be2952",
   "metadata": {},
   "outputs": [],
   "source": [
    "y_train=to_categorical(y_train)"
   ]
  },
  {
   "cell_type": "code",
   "execution_count": 41,
   "id": "b2e9acee",
   "metadata": {},
   "outputs": [
    {
     "name": "stdout",
     "output_type": "stream",
     "text": [
      "Epoch 1/5\n",
      "1329/1329 [==============================] - 24s 17ms/step - loss: 1.6608 - acc: 0.3965 - val_loss: 1.4549 - val_acc: 0.4768\n",
      "Epoch 2/5\n",
      "1329/1329 [==============================] - 30s 22ms/step - loss: 1.3992 - acc: 0.4952 - val_loss: 1.3380 - val_acc: 0.5220\n",
      "Epoch 3/5\n",
      "1329/1329 [==============================] - 26s 20ms/step - loss: 1.2970 - acc: 0.5373 - val_loss: 1.2618 - val_acc: 0.5577\n",
      "Epoch 4/5\n",
      "1329/1329 [==============================] - 29s 22ms/step - loss: 1.2214 - acc: 0.5644 - val_loss: 1.2870 - val_acc: 0.5473\n",
      "Epoch 5/5\n",
      "1329/1329 [==============================] - 30s 22ms/step - loss: 1.1627 - acc: 0.5876 - val_loss: 1.2213 - val_acc: 0.5701\n"
     ]
    },
    {
     "data": {
      "text/plain": [
       "<keras.callbacks.History at 0x7fe445b1f3a0>"
      ]
     },
     "execution_count": 41,
     "metadata": {},
     "output_type": "execute_result"
    }
   ],
   "source": [
    "cnn.fit(X_train, y_train, epochs=5, validation_split=0.15)"
   ]
  },
  {
   "cell_type": "code",
   "execution_count": 42,
   "id": "65ecb117",
   "metadata": {},
   "outputs": [
    {
     "name": "stdout",
     "output_type": "stream",
     "text": [
      "313/313 [==============================] - 1s 4ms/step\n"
     ]
    }
   ],
   "source": [
    "y_pred=cnn.predict(X_test)"
   ]
  },
  {
   "cell_type": "code",
   "execution_count": 43,
   "id": "22587e5a",
   "metadata": {},
   "outputs": [],
   "source": [
    "y_pred_class= y_pred.argmax(axis=1)"
   ]
  },
  {
   "cell_type": "code",
   "execution_count": 44,
   "id": "ce30370e",
   "metadata": {},
   "outputs": [
    {
     "data": {
      "text/plain": [
       "array([3, 1, 0, ..., 3, 4, 7])"
      ]
     },
     "execution_count": 44,
     "metadata": {},
     "output_type": "execute_result"
    }
   ],
   "source": [
    "y_pred_class"
   ]
  },
  {
   "cell_type": "code",
   "execution_count": 49,
   "id": "1f9a83ff",
   "metadata": {},
   "outputs": [
    {
     "name": "stdout",
     "output_type": "stream",
     "text": [
      "              precision    recall  f1-score   support\n",
      "\n",
      "           0       0.65      0.61      0.63      1000\n",
      "           1       0.75      0.66      0.71      1000\n",
      "           2       0.53      0.37      0.43      1000\n",
      "           3       0.36      0.42      0.39      1000\n",
      "           4       0.49      0.46      0.48      1000\n",
      "           5       0.50      0.40      0.44      1000\n",
      "           6       0.46      0.89      0.60      1000\n",
      "           7       0.64      0.62      0.63      1000\n",
      "           8       0.70      0.66      0.68      1000\n",
      "           9       0.77      0.55      0.64      1000\n",
      "\n",
      "    accuracy                           0.56     10000\n",
      "   macro avg       0.58      0.56      0.56     10000\n",
      "weighted avg       0.58      0.56      0.56     10000\n",
      "\n"
     ]
    }
   ],
   "source": [
    "print(classification_report(y_test,y_pred_class))"
   ]
  },
  {
   "cell_type": "code",
   "execution_count": 50,
   "id": "604aca29",
   "metadata": {},
   "outputs": [],
   "source": [
    "class_name=['airplane', 'automobile', 'bird', 'cat', 'deer', 'dog', 'frog', 'horse', 'ship', 'truck']"
   ]
  },
  {
   "cell_type": "code",
   "execution_count": 53,
   "id": "f1019964",
   "metadata": {},
   "outputs": [
    {
     "ename": "TypeError",
     "evalue": "'int' object is not subscriptable",
     "output_type": "error",
     "traceback": [
      "\u001b[0;31m---------------------------------------------------------------------------\u001b[0m",
      "\u001b[0;31mTypeError\u001b[0m                                 Traceback (most recent call last)",
      "\u001b[0;32m/var/folders/61/r_vs5l1j7m91kw2v12g_zjsr0000gn/T/ipykernel_70283/2939592037.py\u001b[0m in \u001b[0;36m<module>\u001b[0;34m\u001b[0m\n\u001b[1;32m      2\u001b[0m \u001b[0mplt\u001b[0m\u001b[0;34m.\u001b[0m\u001b[0mimshow\u001b[0m\u001b[0;34m(\u001b[0m\u001b[0mX_test\u001b[0m\u001b[0;34m[\u001b[0m\u001b[0mrandom_index\u001b[0m\u001b[0;34m]\u001b[0m\u001b[0;34m)\u001b[0m\u001b[0;34m\u001b[0m\u001b[0;34m\u001b[0m\u001b[0m\n\u001b[1;32m      3\u001b[0m \u001b[0mpred_obj\u001b[0m\u001b[0;34m=\u001b[0m\u001b[0my_pred_class\u001b[0m\u001b[0;34m[\u001b[0m\u001b[0mrandom_index\u001b[0m\u001b[0;34m]\u001b[0m\u001b[0;34m\u001b[0m\u001b[0;34m\u001b[0m\u001b[0m\n\u001b[0;32m----> 4\u001b[0;31m \u001b[0mactual_obj\u001b[0m\u001b[0;34m=\u001b[0m\u001b[0my_test\u001b[0m\u001b[0;34m[\u001b[0m\u001b[0mrandom_index\u001b[0m\u001b[0;34m[\u001b[0m\u001b[0;36m0\u001b[0m\u001b[0;34m]\u001b[0m\u001b[0;34m]\u001b[0m\u001b[0;34m\u001b[0m\u001b[0;34m\u001b[0m\u001b[0m\n\u001b[0m\u001b[1;32m      5\u001b[0m \u001b[0mplt\u001b[0m\u001b[0;34m.\u001b[0m\u001b[0mxlabel\u001b[0m\u001b[0;34m(\u001b[0m\u001b[0;34mf'Predicted:{class_name[pred_obj]}, Actual:{class_name[actual_obj]}'\u001b[0m\u001b[0;34m)\u001b[0m\u001b[0;34m\u001b[0m\u001b[0;34m\u001b[0m\u001b[0m\n\u001b[1;32m      6\u001b[0m \u001b[0mplt\u001b[0m\u001b[0;34m.\u001b[0m\u001b[0mshow\u001b[0m\u001b[0;34m(\u001b[0m\u001b[0;34m)\u001b[0m\u001b[0;34m\u001b[0m\u001b[0;34m\u001b[0m\u001b[0m\n",
      "\u001b[0;31mTypeError\u001b[0m: 'int' object is not subscriptable"
     ]
    },
    {
     "data": {
      "image/png": "[encoded data removed]",
      "text/plain": [
       "<Figure size 432x288 with 1 Axes>"
      ]
     },
     "metadata": {
      "needs_background": "light"
     },
     "output_type": "display_data"
    }
   ],
   "source": [
    "random_index=65\n",
    "plt.imshow(X_test[random_index])\n",
    "pred_obj=y_pred_class[random_index]\n",
    "actual_obj=y_test[random_index[0]]\n",
    "plt.xlabel(f'Predicted:{class_name[pred_obj]}, Actual:{class_name[actual_obj]}')\n",
    "plt.show()"
   ]
  },
  {
   "cell_type": "code",
   "execution_count": null,
   "id": "71712302",
   "metadata": {},
   "outputs": [],
   "source": []
  }
 ],
 "metadata": {
  "kernelspec": {
   "display_name": "Python 3 (ipykernel)",
   "language": "python",
   "name": "python3"
  },
  "language_info": {
   "codemirror_mode": {
    "name": "ipython",
    "version": 3
   },
   "file_extension": ".py",
   "mimetype": "text/x-python",
   "name": "python",
   "nbconvert_exporter": "python",
   "pygments_lexer": "ipython3",
   "version": "3.9.7"
  }
 },
 "nbformat": 4,
 "nbformat_minor": 5
}
